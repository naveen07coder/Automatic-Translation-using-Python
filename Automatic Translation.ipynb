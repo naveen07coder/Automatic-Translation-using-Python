{
 "cells": [
  {
   "cell_type": "code",
   "execution_count": 6,
   "metadata": {},
   "outputs": [
    {
     "name": "stdout",
     "output_type": "stream",
     "text": [
      "Collecting goslate\n",
      "  Using cached goslate-1.5.4.tar.gz (14 kB)\n",
      "Collecting futures\n",
      "  Using cached futures-3.0.5.tar.gz (25 kB)\n",
      "Note: you may need to restart the kernel to use updated packages.\n"
     ]
    },
    {
     "name": "stderr",
     "output_type": "stream",
     "text": [
      "    ERROR: Command errored out with exit status 1:\n",
      "     command: 'c:\\Users\\prema\\AppData\\Local\\Programs\\Python\\Python39\\python.exe' -c 'import sys, setuptools, tokenize; sys.argv[0] = '\"'\"'C:\\\\Users\\\\prema\\\\AppData\\\\Local\\\\Temp\\\\pip-install-n214as2_\\\\futures\\\\setup.py'\"'\"'; __file__='\"'\"'C:\\\\Users\\\\prema\\\\AppData\\\\Local\\\\Temp\\\\pip-install-n214as2_\\\\futures\\\\setup.py'\"'\"';f=getattr(tokenize, '\"'\"'open'\"'\"', open)(__file__);code=f.read().replace('\"'\"'\\r\\n'\"'\"', '\"'\"'\\n'\"'\"');f.close();exec(compile(code, __file__, '\"'\"'exec'\"'\"'))' egg_info --egg-base 'C:\\Users\\prema\\AppData\\Local\\Temp\\pip-pip-egg-info-hxtggqkl'\n",
      "         cwd: C:\\Users\\prema\\AppData\\Local\\Temp\\pip-install-n214as2_\\futures\\\n",
      "    Complete output (26 lines):\n",
      "    Traceback (most recent call last):\n",
      "      File \"<string>\", line 1, in <module>\n",
      "      File \"c:\\Users\\prema\\AppData\\Local\\Programs\\Python\\Python39\\lib\\site-packages\\setuptools\\__init__.py\", line 189, in <module>\n",
      "        monkey.patch_all()\n",
      "      File \"c:\\Users\\prema\\AppData\\Local\\Programs\\Python\\Python39\\lib\\site-packages\\setuptools\\monkey.py\", line 99, in patch_all\n",
      "        patch_for_msvc_specialized_compiler()\n",
      "      File \"c:\\Users\\prema\\AppData\\Local\\Programs\\Python\\Python39\\lib\\site-packages\\setuptools\\monkey.py\", line 169, in patch_for_msvc_specialized_compiler\n",
      "        patch_func(*msvc14('_get_vc_env'))\n",
      "      File \"c:\\Users\\prema\\AppData\\Local\\Programs\\Python\\Python39\\lib\\site-packages\\setuptools\\monkey.py\", line 149, in patch_params\n",
      "        mod = import_module(mod_name)\n",
      "      File \"c:\\Users\\prema\\AppData\\Local\\Programs\\Python\\Python39\\lib\\importlib\\__init__.py\", line 127, in import_module\n",
      "        return _bootstrap._gcd_import(name[level:], package, level)\n",
      "      File \"c:\\Users\\prema\\AppData\\Local\\Programs\\Python\\Python39\\lib\\site-packages\\setuptools\\_distutils\\_msvccompiler.py\", line 20, in <module>\n",
      "        import unittest.mock\n",
      "      File \"c:\\Users\\prema\\AppData\\Local\\Programs\\Python\\Python39\\lib\\unittest\\mock.py\", line 26, in <module>\n",
      "        import asyncio\n",
      "      File \"c:\\Users\\prema\\AppData\\Local\\Programs\\Python\\Python39\\lib\\asyncio\\__init__.py\", line 8, in <module>\n",
      "        from .base_events import *\n",
      "      File \"c:\\Users\\prema\\AppData\\Local\\Programs\\Python\\Python39\\lib\\asyncio\\base_events.py\", line 18, in <module>\n",
      "        import concurrent.futures\n",
      "      File \"C:\\Users\\prema\\AppData\\Local\\Temp\\pip-install-n214as2_\\futures\\concurrent\\futures\\__init__.py\", line 8, in <module>\n",
      "        from concurrent.futures._base import (FIRST_COMPLETED,\n",
      "      File \"C:\\Users\\prema\\AppData\\Local\\Temp\\pip-install-n214as2_\\futures\\concurrent\\futures\\_base.py\", line 357\n",
      "        raise type(self._exception), self._exception, self._traceback\n",
      "                                   ^\n",
      "    SyntaxError: invalid syntax\n",
      "    ----------------------------------------\n",
      "ERROR: Command errored out with exit status 1: python setup.py egg_info Check the logs for full command output.\n",
      "WARNING: You are using pip version 20.2.3; however, version 22.1.2 is available.\n",
      "You should consider upgrading via the 'c:\\Users\\prema\\AppData\\Local\\Programs\\Python\\Python39\\python.exe -m pip install --upgrade pip' command.\n"
     ]
    }
   ],
   "source": [
    "%pip install goslate"
   ]
  },
  {
   "cell_type": "code",
   "execution_count": 5,
   "metadata": {},
   "outputs": [
    {
     "ename": "NameError",
     "evalue": "name 'goslate' is not defined",
     "output_type": "error",
     "traceback": [
      "\u001b[1;31m---------------------------------------------------------------------------\u001b[0m",
      "\u001b[1;31mNameError\u001b[0m                                 Traceback (most recent call last)",
      "\u001b[1;32mc:\\NAVEEN\\GIT PROJECT\\AUTOMATIC TRANSLATION\\practice.ipynb Cell 2'\u001b[0m in \u001b[0;36m<cell line: 2>\u001b[1;34m()\u001b[0m\n\u001b[0;32m      <a href='vscode-notebook-cell:/c%3A/NAVEEN/GIT%20PROJECT/AUTOMATIC%20TRANSLATION/practice.ipynb#ch0000001?line=0'>1</a>\u001b[0m intext \u001b[39m=\u001b[39m \u001b[39m\"\u001b[39m\u001b[39mI\u001b[39m\u001b[39m'\u001b[39m\u001b[39mm Naveen from coimbatore\u001b[39m\u001b[39m\"\u001b[39m\n\u001b[1;32m----> <a href='vscode-notebook-cell:/c%3A/NAVEEN/GIT%20PROJECT/AUTOMATIC%20TRANSLATION/practice.ipynb#ch0000001?line=1'>2</a>\u001b[0m go \u001b[39m=\u001b[39m goslate\u001b[39m.\u001b[39mGoslate()\n\u001b[0;32m      <a href='vscode-notebook-cell:/c%3A/NAVEEN/GIT%20PROJECT/AUTOMATIC%20TRANSLATION/practice.ipynb#ch0000001?line=2'>3</a>\u001b[0m go\u001b[39m.\u001b[39mtranslate(intext, \u001b[39m'\u001b[39m\u001b[39men\u001b[39m\u001b[39m'\u001b[39m)\n",
      "\u001b[1;31mNameError\u001b[0m: name 'goslate' is not defined"
     ]
    }
   ],
   "source": [
    "intext = \"I'm Naveen from coimbatore\"\n",
    "go = goslate.Goslate()\n",
    "go.translate(intext, 'en')"
   ]
  },
  {
   "cell_type": "code",
   "execution_count": null,
   "metadata": {},
   "outputs": [],
   "source": []
  }
 ],
 "metadata": {
  "kernelspec": {
   "display_name": "Python 3.9.4 64-bit",
   "language": "python",
   "name": "python3"
  },
  "language_info": {
   "codemirror_mode": {
    "name": "ipython",
    "version": 3
   },
   "file_extension": ".py",
   "mimetype": "text/x-python",
   "name": "python",
   "nbconvert_exporter": "python",
   "pygments_lexer": "ipython3",
   "version": "3.9.4"
  },
  "orig_nbformat": 4,
  "vscode": {
   "interpreter": {
    "hash": "cc85ddf00d761cb5c5af15e4125548eec91bc47dc7302724fa903485dda85f39"
   }
  }
 },
 "nbformat": 4,
 "nbformat_minor": 2
}
